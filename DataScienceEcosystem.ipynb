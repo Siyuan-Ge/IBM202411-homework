{
 "cells": [
  {
   "cell_type": "markdown",
   "id": "9e103cc7-4aa2-42e0-b165-1e3228f2f7c1",
   "metadata": {},
   "source": [
    " # Data Science Tools and Ecosystem"
   ]
  },
  {
   "cell_type": "markdown",
   "id": "f42b6470-cb0d-449d-96c4-d6b5ca4bb688",
   "metadata": {},
   "source": [
    "In this notebook, Data Science Tools and Ecosystem are summarized."
   ]
  },
  {
   "cell_type": "markdown",
   "id": "e9f9d763-163c-435b-b76a-05a568910dc1",
   "metadata": {},
   "source": [
    "Some of the popular languages that Data Scientists use are:\n",
    "1. Python\n",
    "2. R\n",
    "3. Julia\n",
    "4. Java"
   ]
  },
  {
   "cell_type": "markdown",
   "id": "0522141e-17aa-44f3-8c11-ee40a20037f1",
   "metadata": {},
   "source": [
    "Some of the commonly used libraries used by Data Scientists include:\n",
    "1. Pandas\n",
    "2. Numpy\n",
    "3. GGPLOT"
   ]
  },
  {
   "cell_type": "markdown",
   "id": "31ca72fa-14ce-498d-b116-f832fb02b655",
   "metadata": {},
   "source": [
    "|Data Science Tools|\n",
    "|-|\n",
    "|Spark|\n",
    "|Flink|\n",
    "|MySQL|"
   ]
  },
  {
   "cell_type": "markdown",
   "id": "ed53a719-7922-4377-9634-811bd817cf94",
   "metadata": {},
   "source": [
    "### Below are a few examples of evaluating arithmetic expressions in Python"
   ]
  },
  {
   "cell_type": "code",
   "execution_count": 15,
   "id": "cc2df4f8-42e2-434b-ac3e-56889bace86d",
   "metadata": {},
   "outputs": [
    {
     "data": {
      "text/plain": [
       "17"
      ]
     },
     "execution_count": 15,
     "metadata": {},
     "output_type": "execute_result"
    }
   ],
   "source": [
    "#This a simple arithmetic expression to mutiply then add integers\n",
    "(3*4)+5"
   ]
  },
  {
   "cell_type": "code",
   "execution_count": 10,
   "id": "9ac9c1ac-0a6b-426e-813e-3be924759374",
   "metadata": {},
   "outputs": [
    {
     "name": "stdout",
     "output_type": "stream",
     "text": [
      "3.3333333333333335\n"
     ]
    }
   ],
   "source": [
    "#This will convert 200 minutes to hours by diving by 60\n",
    "hours = 200/60\n",
    "print(hours)"
   ]
  },
  {
   "cell_type": "markdown",
   "id": "97911ee3-2faf-44a1-84db-12aea5c90609",
   "metadata": {},
   "source": [
    "**Objectives:**\n",
    "* List popular languages for Data Science\n",
    "* List popular tools for Data Science\n",
    "* List expressions"
   ]
  },
  {
   "cell_type": "markdown",
   "id": "caa3b0d5-5118-4da9-8534-7c5248e0f76b",
   "metadata": {},
   "source": [
    "## Author\n",
    "Siyuan Ge"
   ]
  }
 ],
 "metadata": {
  "kernelspec": {
   "display_name": "Python [conda env:base] *",
   "language": "python",
   "name": "conda-base-py"
  },
  "language_info": {
   "codemirror_mode": {
    "name": "ipython",
    "version": 3
   },
   "file_extension": ".py",
   "mimetype": "text/x-python",
   "name": "python",
   "nbconvert_exporter": "python",
   "pygments_lexer": "ipython3",
   "version": "3.12.7"
  }
 },
 "nbformat": 4,
 "nbformat_minor": 5
}
